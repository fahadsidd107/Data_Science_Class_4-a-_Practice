{
 "cells": [
  {
   "cell_type": "code",
   "execution_count": 41,
   "id": "a4651415",
   "metadata": {},
   "outputs": [
    {
     "data": {
      "text/plain": [
       "['h', 'u', 'm', 'a', 'n']"
      ]
     },
     "execution_count": 41,
     "metadata": {},
     "output_type": "execute_result"
    }
   ],
   "source": [
    "h=[]\n",
    "for i in 'human':\n",
    "    h.append(i)\n",
    "h"
   ]
  },
  {
   "cell_type": "code",
   "execution_count": 42,
   "id": "f4e45886",
   "metadata": {},
   "outputs": [
    {
     "data": {
      "text/plain": [
       "['h', 'u', 'm', 'a', 'n']"
      ]
     },
     "execution_count": 42,
     "metadata": {},
     "output_type": "execute_result"
    }
   ],
   "source": [
    "h=[letter for letter in 'human']\n",
    "h"
   ]
  },
  {
   "cell_type": "code",
   "execution_count": 43,
   "id": "8d8d79a3",
   "metadata": {},
   "outputs": [
    {
     "data": {
      "text/plain": [
       "[2, 4, 6, 8, 10, 12, 14, 16, 18, 20]"
      ]
     },
     "execution_count": 43,
     "metadata": {},
     "output_type": "execute_result"
    }
   ],
   "source": [
    "h=[x*2 for x in range(1,11)]\n",
    "h"
   ]
  },
  {
   "cell_type": "code",
   "execution_count": 44,
   "id": "97b1dd34",
   "metadata": {},
   "outputs": [
    {
     "data": {
      "text/plain": [
       "[2, 4, 6, 8, 10, 12, 14, 16, 18, 20]"
      ]
     },
     "execution_count": 44,
     "metadata": {},
     "output_type": "execute_result"
    }
   ],
   "source": [
    "# h=[x for x in range(1,21) if x%2==0]\n",
    "# h\n",
    "\n",
    "h=[]\n",
    "for x in range(1,21):\n",
    "    if x%2==0:\n",
    "        h.append(x)\n",
    "h\n",
    "    "
   ]
  },
  {
   "cell_type": "code",
   "execution_count": 45,
   "id": "67f5ada7",
   "metadata": {},
   "outputs": [
    {
     "name": "stdout",
     "output_type": "stream",
     "text": [
      "2\n",
      "4\n",
      "6\n",
      "8\n",
      "10\n",
      "12\n",
      "14\n",
      "16\n",
      "18\n",
      "20\n"
     ]
    }
   ],
   "source": [
    "h=[x for x in range(1,21) if x%2==0]\n",
    "for i in h:\n",
    "    print(i)"
   ]
  },
  {
   "cell_type": "code",
   "execution_count": 46,
   "id": "5b8f0000",
   "metadata": {},
   "outputs": [
    {
     "data": {
      "text/plain": [
       "[[1, 6], [2, 7], [3, 8], [4, 9], [5, 10]]"
      ]
     },
     "execution_count": 46,
     "metadata": {},
     "output_type": "execute_result"
    }
   ],
   "source": [
    "matrix = [[1,2,3,4,5],[6,7,8,9,10]]\n",
    "transpose=[]\n",
    "for i in range(len(matrix[0])):\n",
    "    row=[]\n",
    "    for j in matrix:\n",
    "        row.append(j[i])\n",
    "    transpose.append(row)\n",
    "transpose\n"
   ]
  },
  {
   "cell_type": "code",
   "execution_count": 47,
   "id": "c9e1095e",
   "metadata": {},
   "outputs": [
    {
     "name": "stdout",
     "output_type": "stream",
     "text": [
      "[1, 6]\n",
      "[2, 7]\n",
      "[3, 8]\n",
      "[4, 9]\n",
      "[5, 10]\n"
     ]
    }
   ],
   "source": [
    "for i in transpose:\n",
    "    print(i)"
   ]
  },
  {
   "cell_type": "code",
   "execution_count": 48,
   "id": "5826775f",
   "metadata": {},
   "outputs": [
    {
     "name": "stdout",
     "output_type": "stream",
     "text": [
      "5\n",
      "10\n"
     ]
    }
   ],
   "source": [
    "for x in i:\n",
    "    print(x)"
   ]
  },
  {
   "cell_type": "code",
   "execution_count": 52,
   "id": "e07889b0",
   "metadata": {},
   "outputs": [
    {
     "data": {
      "text/plain": [
       "[[1, 6], [2, 7], [3, 8], [4, 9], [5, 10]]"
      ]
     },
     "execution_count": 52,
     "metadata": {},
     "output_type": "execute_result"
    }
   ],
   "source": [
    "matrix = [[1,2,3,4,5],[6,7,8,9,10]]\n",
    "h=[[row[i] for row in matrix]for i in range(len(matrix[0]))]\n",
    "h"
   ]
  },
  {
   "cell_type": "markdown",
   "id": "2dc713e0",
   "metadata": {},
   "source": [
    "# Dictionary"
   ]
  },
  {
   "cell_type": "code",
   "execution_count": 54,
   "id": "bec1d38b",
   "metadata": {},
   "outputs": [
    {
     "name": "stdout",
     "output_type": "stream",
     "text": [
      "<class 'dict'>\n"
     ]
    }
   ],
   "source": [
    "fahad = {'name':'Muhammad Fahad Siddiqui','age':23}\n",
    "print(type(fahad))"
   ]
  },
  {
   "cell_type": "code",
   "execution_count": 56,
   "id": "b8c21a2f",
   "metadata": {},
   "outputs": [
    {
     "data": {
      "text/plain": [
       "{1: 'a', 2: 'b', 3: 'c'}"
      ]
     },
     "execution_count": 56,
     "metadata": {},
     "output_type": "execute_result"
    }
   ],
   "source": [
    "a=dict([(1,'a'),(2,'b'),(3,'c')])\n",
    "a"
   ]
  },
  {
   "cell_type": "code",
   "execution_count": 64,
   "id": "c4f28ea4",
   "metadata": {},
   "outputs": [
    {
     "data": {
      "text/plain": [
       "'NOT FOUND'"
      ]
     },
     "execution_count": 64,
     "metadata": {},
     "output_type": "execute_result"
    }
   ],
   "source": [
    "a={\n",
    "    1:['a','b','c'],\n",
    "    2:{'a': 'apple','b':'ball','c':'cat'},\n",
    "    3:'d-z',\n",
    "    4:'D-Z'\n",
    "}\n",
    "a.get(5,\"NOT FOUND\")"
   ]
  },
  {
   "cell_type": "code",
   "execution_count": 66,
   "id": "fc794970",
   "metadata": {},
   "outputs": [
    {
     "name": "stdout",
     "output_type": "stream",
     "text": [
      "1\n",
      "2\n",
      "3\n",
      "4\n"
     ]
    }
   ],
   "source": [
    "for i in a.keys():\n",
    "    print(i)"
   ]
  },
  {
   "cell_type": "code",
   "execution_count": 67,
   "id": "49de4289",
   "metadata": {},
   "outputs": [
    {
     "name": "stdout",
     "output_type": "stream",
     "text": [
      "['a', 'b', 'c']\n",
      "{'a': 'apple', 'b': 'ball', 'c': 'cat'}\n",
      "d-z\n",
      "D-Z\n"
     ]
    }
   ],
   "source": [
    "for i in a.values():\n",
    "    print(i)"
   ]
  },
  {
   "cell_type": "code",
   "execution_count": 68,
   "id": "ab45ba2b",
   "metadata": {},
   "outputs": [
    {
     "name": "stdout",
     "output_type": "stream",
     "text": [
      "1 ['a', 'b', 'c']\n",
      "2 {'a': 'apple', 'b': 'ball', 'c': 'cat'}\n",
      "3 d-z\n",
      "4 D-Z\n"
     ]
    }
   ],
   "source": [
    "for key,value in a.items():\n",
    "    print(key,value)"
   ]
  },
  {
   "cell_type": "code",
   "execution_count": 6,
   "id": "3a11814d",
   "metadata": {},
   "outputs": [
    {
     "data": {
      "text/plain": [
       "{1: 'a', 2: 'b', 3: 'c', 4: 'd'}"
      ]
     },
     "execution_count": 6,
     "metadata": {},
     "output_type": "execute_result"
    }
   ],
   "source": [
    "list1=[1,2,3,4]\n",
    "list2=['a','b','c','d','e']\n",
    "res={}\n",
    "\n",
    "# for key in list1:\n",
    "#     for value in list2:\n",
    "#         res[key]=value\n",
    "#         list2.remove(value)\n",
    "#         break\n",
    "\n",
    "# or\n",
    "\n",
    "res=dict(zip(list1,list2))\n",
    "res"
   ]
  },
  {
   "cell_type": "code",
   "execution_count": null,
   "id": "47f927c2",
   "metadata": {},
   "outputs": [],
   "source": []
  }
 ],
 "metadata": {
  "kernelspec": {
   "display_name": "Python 3 (ipykernel)",
   "language": "python",
   "name": "python3"
  },
  "language_info": {
   "codemirror_mode": {
    "name": "ipython",
    "version": 3
   },
   "file_extension": ".py",
   "mimetype": "text/x-python",
   "name": "python",
   "nbconvert_exporter": "python",
   "pygments_lexer": "ipython3",
   "version": "3.9.7"
  }
 },
 "nbformat": 4,
 "nbformat_minor": 5
}
